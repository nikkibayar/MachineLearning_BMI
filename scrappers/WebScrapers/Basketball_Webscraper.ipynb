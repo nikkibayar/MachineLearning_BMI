{
 "cells": [
  {
   "cell_type": "code",
   "execution_count": 44,
   "metadata": {
    "collapsed": true,
    "deletable": true,
    "editable": true
   },
   "outputs": [],
   "source": [
    "import requests\n",
    "import re\n",
    "\n",
    "url = 'http://www.calbears.com/roster.aspx?path=mbball'\n",
    "user_agent = 'Mozilla/5.0 (X11; Linux x86_64) AppleWebKit/537.36 (KHTML, like Gecko) Chrome/36.0.1985.143 Safari/537.36'\n",
    "headers = {'User-Agent': user_agent}\n",
    "r = requests.get(url, headers=headers)"
   ]
  },
  {
   "cell_type": "code",
   "execution_count": 45,
   "metadata": {
    "collapsed": true,
    "deletable": true,
    "editable": true
   },
   "outputs": [],
   "source": [
    "def findHeight(line):\n",
    "    h = re.search(\"<span>[1-7]{1,2}'[1-9]{1,2}&quot\", line)\n",
    "    return h"
   ]
  },
  {
   "cell_type": "code",
   "execution_count": 46,
   "metadata": {
    "collapsed": true,
    "deletable": true,
    "editable": true
   },
   "outputs": [],
   "source": [
    "def findWeight(line):\n",
    "    w = re.search(\"<span>[0-9]{3}\\slbs\", line)\n",
    "    return w\n",
    "    "
   ]
  },
  {
   "cell_type": "code",
   "execution_count": 47,
   "metadata": {
    "collapsed": true,
    "deletable": true,
    "editable": true
   },
   "outputs": [],
   "source": [
    "def findImage(line):\n",
    "    img = re.search(\"images.2016.8.22.[a-zA-Z_0-9]*.JPG\", line)\n",
    "    return img"
   ]
  },
  {
   "cell_type": "code",
   "execution_count": 48,
   "metadata": {
    "collapsed": true,
    "deletable": true,
    "editable": true
   },
   "outputs": [],
   "source": [
    "all_data = []\n",
    "def findAll():\n",
    "    page = r\n",
    "    count = 0\n",
    "    prevLine = \" \"\n",
    "    imgFound = False\n",
    "    heightFound = False\n",
    "    weightFound = False\n",
    "    for line in r.iter_lines():\n",
    "        if(count == 0):\n",
    "            prevLine = str(line.decode(\"ISO-8859-1\"))\n",
    "            count = count + 1\n",
    "            pass\n",
    "        if(count!= 0):\n",
    "            lineToUse = str(line.decode(\"ISO-8859-1\"))\n",
    "            if(imgFound == False):\n",
    "                im = findImage(prevLine + lineToUse)\n",
    "                if(im != None):\n",
    "                    imgFound = True\n",
    "                    image = im.group(0)\n",
    "                else:\n",
    "                    prevLine = lineToUse\n",
    "            if(imgFound == True):\n",
    "                if(heightFound == False):\n",
    "                    h = findHeight(lineToUse)\n",
    "                    if(h != None):\n",
    "                        heightFound = True\n",
    "                        height = h.group(0)\n",
    "                if(heightFound == True and weightFound == False):\n",
    "                    w = findWeight(lineToUse)\n",
    "                    if(w != None):\n",
    "                        weight = w.group(0)\n",
    "                        data = {'url': url,\n",
    "                                'height': height, 'weight': weight, 'image': image}\n",
    "                        all_data.append(data)\n",
    "                        imgFound = False\n",
    "                        heightFound = False\n",
    "                        weightFound = False"
   ]
  },
  {
   "cell_type": "code",
   "execution_count": 50,
   "metadata": {
    "collapsed": false,
    "deletable": true,
    "editable": true
   },
   "outputs": [
    {
     "name": "stdout",
     "output_type": "stream",
     "text": [
      "[]\n"
     ]
    }
   ],
   "source": [
    "#go through array of objects and clean up data\n",
    "import json\n",
    "for x in range(0, len(all_data)):\n",
    "    h = re.search(\"[1-7]{1}'[1-9]{1,2}\", all_data[x]['height']) \n",
    "    all_data[x]['height'] = {\n",
    "      'amount': str(h.group(0)),\n",
    "      'unit': \"cm\"\n",
    "    }\n",
    "    \n",
    "    w = re.search(\"[0-9]{1,3}\\slbs\", all_data[x]['weight'])\n",
    "    all_data[x]['weight'] = {\n",
    "        'amount': str(w.group(0)).split()[0],\n",
    "        'unit': \"kg\"\n",
    "    }\n",
    "    all_data[x]['image'] = \"http://www.calbears.com/\" + all_data[x]['image']\n",
    "\n",
    "print(json.dumps(all_data, indent=4, sort_keys=True))"
   ]
  },
  {
   "cell_type": "code",
   "execution_count": 39,
   "metadata": {
    "collapsed": true,
    "deletable": true,
    "editable": true
   },
   "outputs": [],
   "source": [
    "def convertMetrics():\n",
    "    for x in range(0, len(all_data)):\n",
    "        weight = all_data[x]['weight']['amount']\n",
    "        all_data[x]['weight']['amount'] = float(weight) * .453\n",
    "        h = re.split(\"[']\", all_data[x]['height']['amount'])\n",
    "        height = (int(h[0]) * 12 + int(h[1])) * 2.54\n",
    "        all_data[x]['height']['amount'] = height"
   ]
  },
  {
   "cell_type": "code",
   "execution_count": 40,
   "metadata": {
    "collapsed": false,
    "deletable": true,
    "editable": true
   },
   "outputs": [
    {
     "name": "stdout",
     "output_type": "stream",
     "text": [
      "[]\n"
     ]
    }
   ],
   "source": [
    "print(json.dumps(all_data, indent=4, sort_keys=True))"
   ]
  },
  {
   "cell_type": "code",
   "execution_count": 41,
   "metadata": {
    "collapsed": true,
    "deletable": true,
    "editable": true
   },
   "outputs": [],
   "source": [
    "def calcBMI(height, weight):\n",
    "    height = height / 100\n",
    "    bmi = weight/(height * height)\n",
    "    return bmi"
   ]
  },
  {
   "cell_type": "code",
   "execution_count": 42,
   "metadata": {
    "collapsed": true,
    "deletable": true,
    "editable": true
   },
   "outputs": [],
   "source": [
    "import urllib\n",
    "import urllib.request\n",
    "from urllib.request import urlretrieve\n",
    "from PIL import Image\n",
    "import random\n",
    "import cv2\n",
    "def imagesToFolder():\n",
    "    count = 0\n",
    "    for x in range(0, len(all_data)):\n",
    "        try:\n",
    "            height = int(all_data[x]['height']['amount'])\n",
    "            weight = int(all_data[x]['weight']['amount'])\n",
    "            if(len(str(weight)) > 1): \n",
    "                count = count + 1\n",
    "                bmiNum = calcBMI(height, weight)\n",
    "                url = all_data[x]['image']\n",
    "                print(weight)\n",
    "                nameOfImage = \"B-\"+ str(bmiNum) + \"H-\" + str(height) + \"W-\" + str(weight) + \"-\" + str(hash(random.random())) + \"6_8.jpg\"\n",
    "                path = \"/Users/nikki-genlife/Desktop/anaconda/all_usable_imageNames\"\n",
    "                response = urllib.request.urlopen(url)\n",
    "                y = response.read()\n",
    "                fd = open(path + \"/\" + nameOfImage, \"wb\")\n",
    "                fd.write(y)\n",
    "                fd.close()\n",
    "            else:\n",
    "                pass\n",
    "        except urllib.error.HTTPError:\n",
    "            pass"
   ]
  },
  {
   "cell_type": "code",
   "execution_count": 43,
   "metadata": {
    "collapsed": true,
    "deletable": true,
    "editable": true
   },
   "outputs": [],
   "source": []
  }
 ],
 "metadata": {
  "kernelspec": {
   "display_name": "Python 3",
   "language": "python",
   "name": "python3"
  },
  "language_info": {
   "codemirror_mode": {
    "name": "ipython",
    "version": 3
   },
   "file_extension": ".py",
   "mimetype": "text/x-python",
   "name": "python",
   "nbconvert_exporter": "python",
   "pygments_lexer": "ipython3",
   "version": "3.6.1"
  }
 },
 "nbformat": 4,
 "nbformat_minor": 2
}
